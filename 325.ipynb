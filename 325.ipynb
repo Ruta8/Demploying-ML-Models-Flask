{
  "nbformat": 4,
  "nbformat_minor": 0,
  "metadata": {
    "kernelspec": {
      "display_name": "Python 3",
      "language": "python",
      "name": "python3"
    },
    "language_info": {
      "codemirror_mode": {
        "name": "ipython",
        "version": 3
      },
      "file_extension": ".py",
      "mimetype": "text/x-python",
      "name": "python",
      "nbconvert_exporter": "python",
      "pygments_lexer": "ipython3",
      "version": "3.8.3"
    },
    "colab": {
      "name": "325.ipynb",
      "provenance": []
    }
  },
  "cells": [
    {
      "cell_type": "markdown",
      "metadata": {
        "id": "feHBilj3orH1"
      },
      "source": [
        "# Module 3: Machine Learning\n",
        "\n",
        "## Sprint 2: Intermediate Machine Learning\n",
        "\n",
        "## House prices regression competition, part 2"
      ]
    },
    {
      "cell_type": "markdown",
      "metadata": {
        "id": "__HsaU2gorIK"
      },
      "source": [
        "## Background"
      ]
    },
    {
      "cell_type": "markdown",
      "metadata": {
        "id": "97FvafjLorIN"
      },
      "source": [
        "---"
      ]
    },
    {
      "cell_type": "markdown",
      "metadata": {
        "id": "CNc2w8PYorIO"
      },
      "source": [
        "Participating in Kaggle competitions is an efficient way to learn some aspects of Machine Learning. You can read solutions made public by the others, participate in the discussions to talk about solution ideas and test them by submitting them for evaluation.\n",
        "\n",
        "The metric used for evaluation can vary from competition to competition, but the idea remains the same - build a model that is as accurate as possible on the testing set. In industry, there are other factors to consider when building machine learning models - inference time, solution complexity, maintainability and so on. However, even though you only learn a subset of the required skills while participating in Kaggle competitions, it is quite a fun way to learn by doing it, so let's participate in one of the tutorial competitions again!"
      ]
    },
    {
      "cell_type": "markdown",
      "metadata": {
        "id": "MAJh5rg4orIP"
      },
      "source": [
        "## The competition\n",
        "\n",
        "In this notebook we will again participate in the Kaggle competition below:\n",
        "\n",
        "- https://www.kaggle.com/c/house-prices-advanced-regression-techniques/overview\n",
        "\n",
        "For help, you can look at some of the notebooks by other competitors. However, try to write code by yourself, as even though you will always be able to consult external resources while working as a professional, the main thing right now is to learn by first trying it yourself."
      ]
    },
    {
      "cell_type": "markdown",
      "metadata": {
        "id": "-gqYSknUorIR"
      },
      "source": [
        "---"
      ]
    },
    {
      "cell_type": "markdown",
      "metadata": {
        "id": "Pi_Gqq7qorIS"
      },
      "source": [
        "## Concepts to explore\n",
        "\n",
        "- Neural network regressor in scikit-learn https://scikit-learn.org/stable/modules/generated/sklearn.neural_network.MLPRegressor.html\n",
        "- Gradient boosting regressor in scikit-learn https://scikit-learn.org/stable/modules/generated/sklearn.ensemble.GradientBoostingRegressor.html\n",
        "- xgboost for regression https://www.geeksforgeeks.org/xgboost-for-regression/"
      ]
    },
    {
      "cell_type": "markdown",
      "metadata": {
        "id": "0P4ae810orIT"
      },
      "source": [
        "## Requirements\n",
        "\n",
        "- Build and submit a scikit-learn pipeline having neural network regressor as the model\n",
        "- Build and submit a scikit-learn pipeline having gradient boosted regressor as the model\n",
        "- Build and submit a xgboost model\n",
        "- Achieve a score better than 0.13 on the public leaderboard"
      ]
    },
    {
      "cell_type": "markdown",
      "metadata": {
        "id": "ZzcdcGuporIV"
      },
      "source": [
        "## Evaluation criteria\n",
        "\n",
        "- Public leaderboard score\n",
        "- How simple is the model\n",
        "- How fast is the model prediction\n",
        "- Code quality"
      ]
    },
    {
      "cell_type": "markdown",
      "metadata": {
        "id": "OVh5oUZHorIW"
      },
      "source": [
        "\n",
        "## Sample correction questions\n",
        "\n",
        "During a correction, you may get asked questions that test your understanding of covered topics.\n",
        "\n",
        "- How can model regularization help and what are some of the ways to use regularization?\n",
        "- What are the benefits and the risks of hyper-parameter optimization?\n",
        "- Why is it useful to crossvalidate your model using many splits? Why sometimes a single validation split is still used?\n",
        "- Why is it useful to build a pipeline that encapsulates all the preprocessing, model training and other steps?"
      ]
    },
    {
      "cell_type": "markdown",
      "metadata": {
        "id": "pS6UAAcxuA_8"
      },
      "source": [
        "# Data set"
      ]
    },
    {
      "cell_type": "markdown",
      "metadata": {
        "id": "llmf01NvqGKa"
      },
      "source": [
        "## Information given by authors\n",
        "*   23 nominal, 23 ordinal, 14 discrete, and 20 continuous\n",
        "*   I will say that the 80 variables focus on the quality and quantity of many physical attributes of the property\n",
        "*   In general the 20 continuous variables relate to various area dimensions for each observation.\n",
        "*   Area measurements on the basement, main living area, and even porches are broken down into individual categories based on quality and type\n",
        "*   The 14 discrete variables typically quantify the number of items occurring within the house.\n",
        "*   The nominal variables typically identify various types of dwellings, garages, materials, and environmental conditions while the ordinal variables typically rate various items within the property.\n",
        "*    all sales that had occurred within Ames from 2006 to 2010"
      ]
    },
    {
      "cell_type": "markdown",
      "metadata": {
        "id": "rUuec_wEvvHi"
      },
      "source": [
        "## Notes\n",
        "\n",
        "1. Check how important is are **Condition1** and **Condition2**. Each column has 9 nominal values. Second column might have nulls because it defines a second condition if it applies. It would not make sense to encode condition2 with most frequent values if it has any NaN. But also if the features are not usefull it would be nice to drop them, since they would introduce 16+2 columns when encoded.\n",
        "2. **OverallQual** and **OverallCond** columns are ordinal and already encoded with int values. Highest values mean better quality and condition and lower values mean poorer quality and condition. I could try leaving them the way they are and therefore introducing some bias. It could make the model perform better. \n",
        "3. **Exterior1** and **Exterior2** same logic as #1 applies.\n",
        "4. **MiscVal**: $Value of miscellaneous feature. This columns is related with MiscFeature. So if I drop one I should drop another.\n",
        "5. **MoSold** is encoded in integer values, however it should not be.\n",
        "6. Make all continuous variables float.\n",
        "7. Discrete into int.\n",
        "8. Discrete into strings.\n",
        "9. Remove houses with general living area above 4000 k sq.feet\n",
        "10. Get rid of ID column it's useless."
      ]
    },
    {
      "cell_type": "markdown",
      "metadata": {
        "id": "kelK7bQvEu5q"
      },
      "source": [
        "# Data Import"
      ]
    },
    {
      "cell_type": "code",
      "metadata": {
        "id": "Oq3gJ8ogDj6h"
      },
      "source": [
        "import missingno as msno\n",
        "import numpy as np\n",
        "import pandas as pd\n",
        "import sys"
      ],
      "execution_count": 3,
      "outputs": []
    },
    {
      "cell_type": "code",
      "metadata": {
        "id": "dSJqeG1sDHKa"
      },
      "source": [
        "test = pd.read_csv('test.csv')\n",
        "train = pd.read_csv('train.csv')"
      ],
      "execution_count": 4,
      "outputs": []
    },
    {
      "cell_type": "code",
      "metadata": {
        "colab": {
          "base_uri": "https://localhost:8080/"
        },
        "id": "OxfPz9cyDnub",
        "outputId": "2c8b6e22-ec7d-4856-801e-a50ccc220748"
      },
      "source": [
        "df = train.copy()\n",
        "df.shape"
      ],
      "execution_count": 5,
      "outputs": [
        {
          "output_type": "execute_result",
          "data": {
            "text/plain": [
              "(1460, 81)"
            ]
          },
          "metadata": {
            "tags": []
          },
          "execution_count": 5
        }
      ]
    },
    {
      "cell_type": "markdown",
      "metadata": {
        "id": "4lnO_0LkFG90"
      },
      "source": [
        "# Missing Data"
      ]
    },
    {
      "cell_type": "markdown",
      "metadata": {
        "id": "n0K1Y32gExVE"
      },
      "source": [
        "## Continues Variables"
      ]
    },
    {
      "cell_type": "code",
      "metadata": {
        "colab": {
          "base_uri": "https://localhost:8080/"
        },
        "id": "_iqSPA_YFQbK",
        "outputId": "227b3f01-9385-41d7-e4af-f5eb5614f347"
      },
      "source": [
        "df_continuos = df[['1stFlrSF', '2ndFlrSF', '3SsnPorch', 'BsmtUnfSF','BsmtFinSF1', 'BsmtFinSF2', 'EnclosedPorch', 'GarageArea','GrLivArea', 'LotArea',\n",
        "                   'LotFrontage', 'LowQualFinSF', 'MasVnrArea', 'MiscVal', 'OpenPorchSF', 'PoolArea', 'ScreenPorch', 'TotalBsmtSF', 'WoodDeckSF']]\n",
        "df_continuos.info()"
      ],
      "execution_count": 6,
      "outputs": [
        {
          "output_type": "stream",
          "text": [
            "<class 'pandas.core.frame.DataFrame'>\n",
            "RangeIndex: 1460 entries, 0 to 1459\n",
            "Data columns (total 19 columns):\n",
            " #   Column         Non-Null Count  Dtype  \n",
            "---  ------         --------------  -----  \n",
            " 0   1stFlrSF       1460 non-null   int64  \n",
            " 1   2ndFlrSF       1460 non-null   int64  \n",
            " 2   3SsnPorch      1460 non-null   int64  \n",
            " 3   BsmtUnfSF      1460 non-null   int64  \n",
            " 4   BsmtFinSF1     1460 non-null   int64  \n",
            " 5   BsmtFinSF2     1460 non-null   int64  \n",
            " 6   EnclosedPorch  1460 non-null   int64  \n",
            " 7   GarageArea     1460 non-null   int64  \n",
            " 8   GrLivArea      1460 non-null   int64  \n",
            " 9   LotArea        1460 non-null   int64  \n",
            " 10  LotFrontage    1201 non-null   float64\n",
            " 11  LowQualFinSF   1460 non-null   int64  \n",
            " 12  MasVnrArea     1452 non-null   float64\n",
            " 13  MiscVal        1460 non-null   int64  \n",
            " 14  OpenPorchSF    1460 non-null   int64  \n",
            " 15  PoolArea       1460 non-null   int64  \n",
            " 16  ScreenPorch    1460 non-null   int64  \n",
            " 17  TotalBsmtSF    1460 non-null   int64  \n",
            " 18  WoodDeckSF     1460 non-null   int64  \n",
            "dtypes: float64(2), int64(17)\n",
            "memory usage: 216.8 KB\n"
          ],
          "name": "stdout"
        }
      ]
    },
    {
      "cell_type": "code",
      "metadata": {
        "colab": {
          "base_uri": "https://localhost:8080/",
          "height": 112
        },
        "id": "Zmlkaube6Pk3",
        "outputId": "26bbd49a-5892-43cd-832e-9ff0a70e6d88"
      },
      "source": [
        "# Looking at NaN % within the train\n",
        "\n",
        "nan = pd.DataFrame(df_continuos.isna().sum(), columns = ['NaN_sum'])\n",
        "nan['Perc(%)'] = (nan['NaN_sum']/1460)*100\n",
        "nan = nan[nan['NaN_sum'] > 0]\n",
        "nan = nan.sort_values(by = ['NaN_sum'])\n",
        "nan"
      ],
      "execution_count": 7,
      "outputs": [
        {
          "output_type": "execute_result",
          "data": {
            "text/html": [
              "<div>\n",
              "<style scoped>\n",
              "    .dataframe tbody tr th:only-of-type {\n",
              "        vertical-align: middle;\n",
              "    }\n",
              "\n",
              "    .dataframe tbody tr th {\n",
              "        vertical-align: top;\n",
              "    }\n",
              "\n",
              "    .dataframe thead th {\n",
              "        text-align: right;\n",
              "    }\n",
              "</style>\n",
              "<table border=\"1\" class=\"dataframe\">\n",
              "  <thead>\n",
              "    <tr style=\"text-align: right;\">\n",
              "      <th></th>\n",
              "      <th>NaN_sum</th>\n",
              "      <th>Perc(%)</th>\n",
              "    </tr>\n",
              "  </thead>\n",
              "  <tbody>\n",
              "    <tr>\n",
              "      <th>MasVnrArea</th>\n",
              "      <td>8</td>\n",
              "      <td>0.547945</td>\n",
              "    </tr>\n",
              "    <tr>\n",
              "      <th>LotFrontage</th>\n",
              "      <td>259</td>\n",
              "      <td>17.739726</td>\n",
              "    </tr>\n",
              "  </tbody>\n",
              "</table>\n",
              "</div>"
            ],
            "text/plain": [
              "             NaN_sum    Perc(%)\n",
              "MasVnrArea         8   0.547945\n",
              "LotFrontage      259  17.739726"
            ]
          },
          "metadata": {
            "tags": []
          },
          "execution_count": 7
        }
      ]
    },
    {
      "cell_type": "code",
      "metadata": {
        "colab": {
          "base_uri": "https://localhost:8080/"
        },
        "id": "aGQZW45K9w9c",
        "outputId": "2b6a4b90-38d2-4939-bdbf-23225e44ffac"
      },
      "source": [
        "df_continuos.drop(columns=['MiscVal', 'PoolArea', 'LotFrontage','MasVnrArea'], inplace=True)"
      ],
      "execution_count": 8,
      "outputs": [
        {
          "output_type": "stream",
          "text": [
            "/usr/local/lib/python3.7/dist-packages/pandas/core/frame.py:4174: SettingWithCopyWarning: \n",
            "A value is trying to be set on a copy of a slice from a DataFrame\n",
            "\n",
            "See the caveats in the documentation: https://pandas.pydata.org/pandas-docs/stable/user_guide/indexing.html#returning-a-view-versus-a-copy\n",
            "  errors=errors,\n"
          ],
          "name": "stderr"
        }
      ]
    },
    {
      "cell_type": "code",
      "metadata": {
        "id": "l2CaND8f-JFm"
      },
      "source": [
        "# continues values should be floats\n",
        "df_continuos = df_continuos.astype(float)"
      ],
      "execution_count": 9,
      "outputs": []
    },
    {
      "cell_type": "code",
      "metadata": {
        "colab": {
          "base_uri": "https://localhost:8080/",
          "height": 206
        },
        "id": "5NTn3RqP-3-v",
        "outputId": "cbbec89d-c72f-4e4d-c7c2-fac0a4e4b2a0"
      },
      "source": [
        "# linearly dependent features\n",
        "df_continuos[['1stFlrSF', '2ndFlrSF', 'LowQualFinSF', 'GrLivArea']].head()"
      ],
      "execution_count": 10,
      "outputs": [
        {
          "output_type": "execute_result",
          "data": {
            "text/html": [
              "<div>\n",
              "<style scoped>\n",
              "    .dataframe tbody tr th:only-of-type {\n",
              "        vertical-align: middle;\n",
              "    }\n",
              "\n",
              "    .dataframe tbody tr th {\n",
              "        vertical-align: top;\n",
              "    }\n",
              "\n",
              "    .dataframe thead th {\n",
              "        text-align: right;\n",
              "    }\n",
              "</style>\n",
              "<table border=\"1\" class=\"dataframe\">\n",
              "  <thead>\n",
              "    <tr style=\"text-align: right;\">\n",
              "      <th></th>\n",
              "      <th>1stFlrSF</th>\n",
              "      <th>2ndFlrSF</th>\n",
              "      <th>LowQualFinSF</th>\n",
              "      <th>GrLivArea</th>\n",
              "    </tr>\n",
              "  </thead>\n",
              "  <tbody>\n",
              "    <tr>\n",
              "      <th>0</th>\n",
              "      <td>856.0</td>\n",
              "      <td>854.0</td>\n",
              "      <td>0.0</td>\n",
              "      <td>1710.0</td>\n",
              "    </tr>\n",
              "    <tr>\n",
              "      <th>1</th>\n",
              "      <td>1262.0</td>\n",
              "      <td>0.0</td>\n",
              "      <td>0.0</td>\n",
              "      <td>1262.0</td>\n",
              "    </tr>\n",
              "    <tr>\n",
              "      <th>2</th>\n",
              "      <td>920.0</td>\n",
              "      <td>866.0</td>\n",
              "      <td>0.0</td>\n",
              "      <td>1786.0</td>\n",
              "    </tr>\n",
              "    <tr>\n",
              "      <th>3</th>\n",
              "      <td>961.0</td>\n",
              "      <td>756.0</td>\n",
              "      <td>0.0</td>\n",
              "      <td>1717.0</td>\n",
              "    </tr>\n",
              "    <tr>\n",
              "      <th>4</th>\n",
              "      <td>1145.0</td>\n",
              "      <td>1053.0</td>\n",
              "      <td>0.0</td>\n",
              "      <td>2198.0</td>\n",
              "    </tr>\n",
              "  </tbody>\n",
              "</table>\n",
              "</div>"
            ],
            "text/plain": [
              "   1stFlrSF  2ndFlrSF  LowQualFinSF  GrLivArea\n",
              "0     856.0     854.0           0.0     1710.0\n",
              "1    1262.0       0.0           0.0     1262.0\n",
              "2     920.0     866.0           0.0     1786.0\n",
              "3     961.0     756.0           0.0     1717.0\n",
              "4    1145.0    1053.0           0.0     2198.0"
            ]
          },
          "metadata": {
            "tags": []
          },
          "execution_count": 10
        }
      ]
    },
    {
      "cell_type": "code",
      "metadata": {
        "id": "hW8euSAB_Sb-"
      },
      "source": [
        "df_continuos.drop(columns=['1stFlrSF', 'LowQualFinSF'], inplace=True)"
      ],
      "execution_count": 11,
      "outputs": []
    },
    {
      "cell_type": "markdown",
      "metadata": {
        "id": "ViKQCXA0_P97"
      },
      "source": [
        "1st floor sq.feet, 2nd floor sq.feet, low quality finished sq.feet add up to general living area aproximately."
      ]
    },
    {
      "cell_type": "code",
      "metadata": {
        "colab": {
          "base_uri": "https://localhost:8080/",
          "height": 206
        },
        "id": "m2yn7qrb_lMK",
        "outputId": "4550b5a7-9f9a-4b94-df24-18942187b2d7"
      },
      "source": [
        "df_continuos[['BsmtUnfSF', 'BsmtFinSF1', 'BsmtFinSF2', 'TotalBsmtSF']].head()"
      ],
      "execution_count": 12,
      "outputs": [
        {
          "output_type": "execute_result",
          "data": {
            "text/html": [
              "<div>\n",
              "<style scoped>\n",
              "    .dataframe tbody tr th:only-of-type {\n",
              "        vertical-align: middle;\n",
              "    }\n",
              "\n",
              "    .dataframe tbody tr th {\n",
              "        vertical-align: top;\n",
              "    }\n",
              "\n",
              "    .dataframe thead th {\n",
              "        text-align: right;\n",
              "    }\n",
              "</style>\n",
              "<table border=\"1\" class=\"dataframe\">\n",
              "  <thead>\n",
              "    <tr style=\"text-align: right;\">\n",
              "      <th></th>\n",
              "      <th>BsmtUnfSF</th>\n",
              "      <th>BsmtFinSF1</th>\n",
              "      <th>BsmtFinSF2</th>\n",
              "      <th>TotalBsmtSF</th>\n",
              "    </tr>\n",
              "  </thead>\n",
              "  <tbody>\n",
              "    <tr>\n",
              "      <th>0</th>\n",
              "      <td>150.0</td>\n",
              "      <td>706.0</td>\n",
              "      <td>0.0</td>\n",
              "      <td>856.0</td>\n",
              "    </tr>\n",
              "    <tr>\n",
              "      <th>1</th>\n",
              "      <td>284.0</td>\n",
              "      <td>978.0</td>\n",
              "      <td>0.0</td>\n",
              "      <td>1262.0</td>\n",
              "    </tr>\n",
              "    <tr>\n",
              "      <th>2</th>\n",
              "      <td>434.0</td>\n",
              "      <td>486.0</td>\n",
              "      <td>0.0</td>\n",
              "      <td>920.0</td>\n",
              "    </tr>\n",
              "    <tr>\n",
              "      <th>3</th>\n",
              "      <td>540.0</td>\n",
              "      <td>216.0</td>\n",
              "      <td>0.0</td>\n",
              "      <td>756.0</td>\n",
              "    </tr>\n",
              "    <tr>\n",
              "      <th>4</th>\n",
              "      <td>490.0</td>\n",
              "      <td>655.0</td>\n",
              "      <td>0.0</td>\n",
              "      <td>1145.0</td>\n",
              "    </tr>\n",
              "  </tbody>\n",
              "</table>\n",
              "</div>"
            ],
            "text/plain": [
              "   BsmtUnfSF  BsmtFinSF1  BsmtFinSF2  TotalBsmtSF\n",
              "0      150.0       706.0         0.0        856.0\n",
              "1      284.0       978.0         0.0       1262.0\n",
              "2      434.0       486.0         0.0        920.0\n",
              "3      540.0       216.0         0.0        756.0\n",
              "4      490.0       655.0         0.0       1145.0"
            ]
          },
          "metadata": {
            "tags": []
          },
          "execution_count": 12
        }
      ]
    },
    {
      "cell_type": "code",
      "metadata": {
        "id": "GXQVU1yx_wZ0"
      },
      "source": [
        "df_continuos.drop(columns=['BsmtUnfSF', 'BsmtFinSF1', 'BsmtFinSF2'], inplace=True)"
      ],
      "execution_count": 13,
      "outputs": []
    },
    {
      "cell_type": "markdown",
      "metadata": {
        "id": "ChEIFYRt_143"
      },
      "source": [
        "Different quality types of basement add up to total basement sq.feet."
      ]
    },
    {
      "cell_type": "code",
      "metadata": {
        "id": "24yWiJTP_53d"
      },
      "source": [
        "# possible feature to use\n",
        "df_continuos['TotalPorchSF'] = df_continuos['3SsnPorch'] + df_continuos['EnclosedPorch'] + df_continuos['OpenPorchSF'] + df_continuos['ScreenPorch'] + df_continuos['WoodDeckSF']\n",
        "df_continuos.drop(columns=['3SsnPorch', 'EnclosedPorch', 'ScreenPorch', 'OpenPorchSF', 'WoodDeckSF'], inplace=True)"
      ],
      "execution_count": 14,
      "outputs": []
    },
    {
      "cell_type": "markdown",
      "metadata": {
        "id": "TcPjUgys83ER"
      },
      "source": [
        "1. **LotFrontage** is expressesed by the column **LotArea** so I dropped it.\n",
        "2. **MasVnrArea** dropping since it doesn't seem like an informative feature.\n",
        "3. By looking at the values for **MiscFeature** I decided that it wasn't a very informative feature and therefore I'm dropping it. As well as **MiscVal** since its value depends on the former.\n",
        "4. Data set description says that in **PoolQC** and **Alley** na values mean absesnse of a feaure on a property. So I will drop the columns as well. Even if having those features has significant effect on the price of the house, there are not enough values to train the model with crossvalidation.**PoolArea** is related to **PoolQC** so it will be discarded as well.\n"
      ]
    },
    {
      "cell_type": "code",
      "metadata": {
        "colab": {
          "base_uri": "https://localhost:8080/"
        },
        "id": "Lij_uPhaCl5Y",
        "outputId": "2b476475-ce72-490f-8133-7edee2222549"
      },
      "source": [
        "df_continuos.info()"
      ],
      "execution_count": 15,
      "outputs": [
        {
          "output_type": "stream",
          "text": [
            "<class 'pandas.core.frame.DataFrame'>\n",
            "RangeIndex: 1460 entries, 0 to 1459\n",
            "Data columns (total 6 columns):\n",
            " #   Column        Non-Null Count  Dtype  \n",
            "---  ------        --------------  -----  \n",
            " 0   2ndFlrSF      1460 non-null   float64\n",
            " 1   GarageArea    1460 non-null   float64\n",
            " 2   GrLivArea     1460 non-null   float64\n",
            " 3   LotArea       1460 non-null   float64\n",
            " 4   TotalBsmtSF   1460 non-null   float64\n",
            " 5   TotalPorchSF  1460 non-null   float64\n",
            "dtypes: float64(6)\n",
            "memory usage: 68.6 KB\n"
          ],
          "name": "stdout"
        }
      ]
    },
    {
      "cell_type": "markdown",
      "metadata": {
        "id": "G_fFS0NkE07b"
      },
      "source": [
        "## Discrete Variables"
      ]
    },
    {
      "cell_type": "code",
      "metadata": {
        "colab": {
          "base_uri": "https://localhost:8080/"
        },
        "id": "XQhFRaM3GTtf",
        "outputId": "5aaa58f0-5a62-4fee-82ef-6254940998b1"
      },
      "source": [
        "df_discrete = df[['BedroomAbvGr','BsmtFullBath','BsmtHalfBath', 'Fireplaces', 'FullBath', 'GarageCars', 'GarageYrBlt',\n",
        "                  'HalfBath', 'KitchenAbvGr', 'TotRmsAbvGrd','YearBuilt','YearRemodAdd', 'YrSold']]\n",
        "df_discrete.info()"
      ],
      "execution_count": 16,
      "outputs": [
        {
          "output_type": "stream",
          "text": [
            "<class 'pandas.core.frame.DataFrame'>\n",
            "RangeIndex: 1460 entries, 0 to 1459\n",
            "Data columns (total 13 columns):\n",
            " #   Column        Non-Null Count  Dtype  \n",
            "---  ------        --------------  -----  \n",
            " 0   BedroomAbvGr  1460 non-null   int64  \n",
            " 1   BsmtFullBath  1460 non-null   int64  \n",
            " 2   BsmtHalfBath  1460 non-null   int64  \n",
            " 3   Fireplaces    1460 non-null   int64  \n",
            " 4   FullBath      1460 non-null   int64  \n",
            " 5   GarageCars    1460 non-null   int64  \n",
            " 6   GarageYrBlt   1379 non-null   float64\n",
            " 7   HalfBath      1460 non-null   int64  \n",
            " 8   KitchenAbvGr  1460 non-null   int64  \n",
            " 9   TotRmsAbvGrd  1460 non-null   int64  \n",
            " 10  YearBuilt     1460 non-null   int64  \n",
            " 11  YearRemodAdd  1460 non-null   int64  \n",
            " 12  YrSold        1460 non-null   int64  \n",
            "dtypes: float64(1), int64(12)\n",
            "memory usage: 148.4 KB\n"
          ],
          "name": "stdout"
        }
      ]
    },
    {
      "cell_type": "code",
      "metadata": {
        "colab": {
          "base_uri": "https://localhost:8080/",
          "height": 81
        },
        "id": "whOn1eSpPSjZ",
        "outputId": "f5a9f258-05a8-4830-aa21-74d822df4ed5"
      },
      "source": [
        "# Looking at NaN % within the train\n",
        "\n",
        "nan = pd.DataFrame(df_discrete.isna().sum(), columns = ['NaN_sum'])\n",
        "nan['Perc(%)'] = (nan['NaN_sum']/1460)*100\n",
        "nan = nan[nan['NaN_sum'] > 0]\n",
        "nan = nan.sort_values(by = ['NaN_sum'])\n",
        "nan"
      ],
      "execution_count": 17,
      "outputs": [
        {
          "output_type": "execute_result",
          "data": {
            "text/html": [
              "<div>\n",
              "<style scoped>\n",
              "    .dataframe tbody tr th:only-of-type {\n",
              "        vertical-align: middle;\n",
              "    }\n",
              "\n",
              "    .dataframe tbody tr th {\n",
              "        vertical-align: top;\n",
              "    }\n",
              "\n",
              "    .dataframe thead th {\n",
              "        text-align: right;\n",
              "    }\n",
              "</style>\n",
              "<table border=\"1\" class=\"dataframe\">\n",
              "  <thead>\n",
              "    <tr style=\"text-align: right;\">\n",
              "      <th></th>\n",
              "      <th>NaN_sum</th>\n",
              "      <th>Perc(%)</th>\n",
              "    </tr>\n",
              "  </thead>\n",
              "  <tbody>\n",
              "    <tr>\n",
              "      <th>GarageYrBlt</th>\n",
              "      <td>81</td>\n",
              "      <td>5.547945</td>\n",
              "    </tr>\n",
              "  </tbody>\n",
              "</table>\n",
              "</div>"
            ],
            "text/plain": [
              "             NaN_sum   Perc(%)\n",
              "GarageYrBlt       81  5.547945"
            ]
          },
          "metadata": {
            "tags": []
          },
          "execution_count": 17
        }
      ]
    },
    {
      "cell_type": "code",
      "metadata": {
        "colab": {
          "base_uri": "https://localhost:8080/"
        },
        "id": "3jyzAjLnBeJ9",
        "outputId": "619bfd9b-66ad-4d4d-a4ca-8546c72209a1"
      },
      "source": [
        "df_discrete.drop(columns=['GarageYrBlt'], inplace=True)"
      ],
      "execution_count": 18,
      "outputs": [
        {
          "output_type": "stream",
          "text": [
            "/usr/local/lib/python3.7/dist-packages/pandas/core/frame.py:4174: SettingWithCopyWarning: \n",
            "A value is trying to be set on a copy of a slice from a DataFrame\n",
            "\n",
            "See the caveats in the documentation: https://pandas.pydata.org/pandas-docs/stable/user_guide/indexing.html#returning-a-view-versus-a-copy\n",
            "  errors=errors,\n"
          ],
          "name": "stderr"
        }
      ]
    },
    {
      "cell_type": "markdown",
      "metadata": {
        "id": "dJdA8KqCBE5O"
      },
      "source": [
        " **GarageYrBlt** is expressed by the column **YearBuilt** so I dropped it."
      ]
    },
    {
      "cell_type": "code",
      "metadata": {
        "id": "ZBrWT5voBQUR"
      },
      "source": [
        "# discrete values should be int\n",
        "df_discrete = df_discrete.astype(int)"
      ],
      "execution_count": 19,
      "outputs": []
    },
    {
      "cell_type": "code",
      "metadata": {
        "id": "7_7kgne7B-5A"
      },
      "source": [
        "df_discrete[\"TotalBath\"] = (df_discrete[\"FullBath\"] + 0.5 * df_discrete[\"HalfBath\"] + df_discrete[\"BsmtFullBath\"] + 0.5 * df_discrete[\"BsmtHalfBath\"])"
      ],
      "execution_count": 20,
      "outputs": []
    },
    {
      "cell_type": "code",
      "metadata": {
        "id": "JqbNYK_RCKk_"
      },
      "source": [
        "df_discrete.drop(columns=['FullBath', 'HalfBath', 'BsmtFullBath', 'BsmtHalfBath'], inplace=True)"
      ],
      "execution_count": 21,
      "outputs": []
    },
    {
      "cell_type": "code",
      "metadata": {
        "colab": {
          "base_uri": "https://localhost:8080/"
        },
        "id": "-oXzugkaCqHb",
        "outputId": "307d6a96-0cb8-45c0-c329-e5ca0d20a546"
      },
      "source": [
        "df_discrete.info()"
      ],
      "execution_count": 22,
      "outputs": [
        {
          "output_type": "stream",
          "text": [
            "<class 'pandas.core.frame.DataFrame'>\n",
            "RangeIndex: 1460 entries, 0 to 1459\n",
            "Data columns (total 9 columns):\n",
            " #   Column        Non-Null Count  Dtype  \n",
            "---  ------        --------------  -----  \n",
            " 0   BedroomAbvGr  1460 non-null   int64  \n",
            " 1   Fireplaces    1460 non-null   int64  \n",
            " 2   GarageCars    1460 non-null   int64  \n",
            " 3   KitchenAbvGr  1460 non-null   int64  \n",
            " 4   TotRmsAbvGrd  1460 non-null   int64  \n",
            " 5   YearBuilt     1460 non-null   int64  \n",
            " 6   YearRemodAdd  1460 non-null   int64  \n",
            " 7   YrSold        1460 non-null   int64  \n",
            " 8   TotalBath     1460 non-null   float64\n",
            "dtypes: float64(1), int64(8)\n",
            "memory usage: 102.8 KB\n"
          ],
          "name": "stdout"
        }
      ]
    },
    {
      "cell_type": "markdown",
      "metadata": {
        "id": "iVSyyGijE4BF"
      },
      "source": [
        "## Nominal Variables"
      ]
    },
    {
      "cell_type": "code",
      "metadata": {
        "colab": {
          "base_uri": "https://localhost:8080/",
          "height": 0
        },
        "id": "_G2hFWKzGVss",
        "outputId": "0184d56d-ace2-4f0d-d397-cc4ef1e4c4f9"
      },
      "source": [
        "df_nominal = df[['Alley','BldgType', 'CentralAir', 'Condition1', 'Condition2', 'Exterior1st','Exterior2nd', 'MoSold','Foundation','GarageType','Heating',\n",
        "                 'HouseStyle', 'LandContour', 'LotConfig', 'MSSubClass', 'MSZoning', 'MasVnrType', 'MiscFeature', 'Neighborhood', 'RoofMatl', 'RoofStyle', 'SaleCondition', 'SaleType', 'Street']]\n",
        "df_nominal.info()\n",
        "'MiscFeature'\n",
        "'Alley'\n",
        "'MasVnrType'"
      ],
      "execution_count": 23,
      "outputs": [
        {
          "output_type": "stream",
          "text": [
            "<class 'pandas.core.frame.DataFrame'>\n",
            "RangeIndex: 1460 entries, 0 to 1459\n",
            "Data columns (total 24 columns):\n",
            " #   Column         Non-Null Count  Dtype \n",
            "---  ------         --------------  ----- \n",
            " 0   Alley          91 non-null     object\n",
            " 1   BldgType       1460 non-null   object\n",
            " 2   CentralAir     1460 non-null   object\n",
            " 3   Condition1     1460 non-null   object\n",
            " 4   Condition2     1460 non-null   object\n",
            " 5   Exterior1st    1460 non-null   object\n",
            " 6   Exterior2nd    1460 non-null   object\n",
            " 7   MoSold         1460 non-null   int64 \n",
            " 8   Foundation     1460 non-null   object\n",
            " 9   GarageType     1379 non-null   object\n",
            " 10  Heating        1460 non-null   object\n",
            " 11  HouseStyle     1460 non-null   object\n",
            " 12  LandContour    1460 non-null   object\n",
            " 13  LotConfig      1460 non-null   object\n",
            " 14  MSSubClass     1460 non-null   int64 \n",
            " 15  MSZoning       1460 non-null   object\n",
            " 16  MasVnrType     1452 non-null   object\n",
            " 17  MiscFeature    54 non-null     object\n",
            " 18  Neighborhood   1460 non-null   object\n",
            " 19  RoofMatl       1460 non-null   object\n",
            " 20  RoofStyle      1460 non-null   object\n",
            " 21  SaleCondition  1460 non-null   object\n",
            " 22  SaleType       1460 non-null   object\n",
            " 23  Street         1460 non-null   object\n",
            "dtypes: int64(2), object(22)\n",
            "memory usage: 273.9+ KB\n"
          ],
          "name": "stdout"
        },
        {
          "output_type": "execute_result",
          "data": {
            "application/vnd.google.colaboratory.intrinsic+json": {
              "type": "string"
            },
            "text/plain": [
              "'MasVnrType'"
            ]
          },
          "metadata": {
            "tags": []
          },
          "execution_count": 23
        }
      ]
    },
    {
      "cell_type": "code",
      "metadata": {
        "colab": {
          "base_uri": "https://localhost:8080/",
          "height": 0
        },
        "id": "dd_9PmqTPfhS",
        "outputId": "507b7973-2718-40b1-d88e-283f837ee129"
      },
      "source": [
        "msno.matrix(df_nominal)"
      ],
      "execution_count": 24,
      "outputs": [
        {
          "output_type": "execute_result",
          "data": {
            "text/plain": [
              "<matplotlib.axes._subplots.AxesSubplot at 0x7f84b91c9650>"
            ]
          },
          "metadata": {
            "tags": []
          },
          "execution_count": 24
        },
        {
          "output_type": "display_data",
          "data": {
            "image/png": "[encoded data removed]",
            "text/plain": [
              "<Figure size 1800x720 with 2 Axes>"
            ]
          },
          "metadata": {
            "tags": [],
            "needs_background": "light"
          }
        }
      ]
    },
    {
      "cell_type": "markdown",
      "metadata": {
        "id": "y3LmmePtE7DA"
      },
      "source": [
        "## Ordinal Variables"
      ]
    },
    {
      "cell_type": "code",
      "metadata": {
        "colab": {
          "base_uri": "https://localhost:8080/",
          "height": 0
        },
        "id": "vnDfnR8cGY14",
        "outputId": "0cd41a87-1629-4246-f94c-9a9e3417990d"
      },
      "source": [
        "df_ordinal = df[['BsmtCond', 'BsmtExposure', 'BsmtQual', 'BsmtFinType1', 'BsmtFinType2', 'Electrical', 'ExterCond', \n",
        "                 'ExterQual', 'Fence', 'FireplaceQu', 'Functional', 'GarageCond', 'GarageFinish', 'GarageQual', 'HeatingQC', 'KitchenQual',\n",
        "                 'LandSlope', 'LotShape', 'OverallCond', 'OverallQual', 'PavedDrive', 'PoolQC', 'Utilities']]\n",
        "df_ordinal.info()\n",
        "'PoolQC'\n",
        "'Fence'\n",
        "'FireplaceQu'"
      ],
      "execution_count": 25,
      "outputs": [
        {
          "output_type": "stream",
          "text": [
            "<class 'pandas.core.frame.DataFrame'>\n",
            "RangeIndex: 1460 entries, 0 to 1459\n",
            "Data columns (total 23 columns):\n",
            " #   Column        Non-Null Count  Dtype \n",
            "---  ------        --------------  ----- \n",
            " 0   BsmtCond      1423 non-null   object\n",
            " 1   BsmtExposure  1422 non-null   object\n",
            " 2   BsmtQual      1423 non-null   object\n",
            " 3   BsmtFinType1  1423 non-null   object\n",
            " 4   BsmtFinType2  1422 non-null   object\n",
            " 5   Electrical    1459 non-null   object\n",
            " 6   ExterCond     1460 non-null   object\n",
            " 7   ExterQual     1460 non-null   object\n",
            " 8   Fence         281 non-null    object\n",
            " 9   FireplaceQu   770 non-null    object\n",
            " 10  Functional    1460 non-null   object\n",
            " 11  GarageCond    1379 non-null   object\n",
            " 12  GarageFinish  1379 non-null   object\n",
            " 13  GarageQual    1379 non-null   object\n",
            " 14  HeatingQC     1460 non-null   object\n",
            " 15  KitchenQual   1460 non-null   object\n",
            " 16  LandSlope     1460 non-null   object\n",
            " 17  LotShape      1460 non-null   object\n",
            " 18  OverallCond   1460 non-null   int64 \n",
            " 19  OverallQual   1460 non-null   int64 \n",
            " 20  PavedDrive    1460 non-null   object\n",
            " 21  PoolQC        7 non-null      object\n",
            " 22  Utilities     1460 non-null   object\n",
            "dtypes: int64(2), object(21)\n",
            "memory usage: 262.5+ KB\n"
          ],
          "name": "stdout"
        },
        {
          "output_type": "execute_result",
          "data": {
            "application/vnd.google.colaboratory.intrinsic+json": {
              "type": "string"
            },
            "text/plain": [
              "'FireplaceQu'"
            ]
          },
          "metadata": {
            "tags": []
          },
          "execution_count": 25
        }
      ]
    },
    {
      "cell_type": "code",
      "metadata": {
        "colab": {
          "base_uri": "https://localhost:8080/",
          "height": 0
        },
        "id": "H8n2JiHAPjpf",
        "outputId": "5cd0fa2d-4a64-4854-c470-70e1f2cf3f6d"
      },
      "source": [
        "msno.matrix(df_ordinal)"
      ],
      "execution_count": 26,
      "outputs": [
        {
          "output_type": "execute_result",
          "data": {
            "text/plain": [
              "<matplotlib.axes._subplots.AxesSubplot at 0x7f84aebee9d0>"
            ]
          },
          "metadata": {
            "tags": []
          },
          "execution_count": 26
        },
        {
          "output_type": "display_data",
          "data": {
            "image/png": "[encoded data removed]",
            "text/plain": [
              "<Figure size 1800x720 with 2 Axes>"
            ]
          },
          "metadata": {
            "tags": [],
            "needs_background": "light"
          }
        }
      ]
    },
    {
      "cell_type": "markdown",
      "metadata": {
        "id": "_jQPBPmQmdcX"
      },
      "source": [
        "# Baseline Models"
      ]
    },
    {
      "cell_type": "code",
      "metadata": {
        "id": "PFq1jjVgCwW3"
      },
      "source": [
        "numeric = pd.concat([df_discrete, df_continuos, df['SalePrice']], axis=1)"
      ],
      "execution_count": 27,
      "outputs": []
    },
    {
      "cell_type": "code",
      "metadata": {
        "id": "swcQKFqAl1fx"
      },
      "source": [
        "# Filtering out houses above 4000 \n",
        "\n",
        "index_names = numeric[numeric['GrLivArea'] >= 4000 ].index\n",
        "numeric.drop(index_names, inplace = True)"
      ],
      "execution_count": 28,
      "outputs": []
    },
    {
      "cell_type": "code",
      "metadata": {
        "id": "RstnkTm0WouE"
      },
      "source": [
        "target = numeric['SalePrice']\n",
        "numeric = numeric.drop(columns=['SalePrice'], inplace=False)"
      ],
      "execution_count": 29,
      "outputs": []
    },
    {
      "cell_type": "code",
      "metadata": {
        "colab": {
          "base_uri": "https://localhost:8080/"
        },
        "id": "WrS2LIkaDghL",
        "outputId": "0f8996a9-0b44-443e-a713-bb4f18c51846"
      },
      "source": [
        "from sklearn.model_selection import cross_validate\n",
        "from sklearn.ensemble import GradientBoostingRegressor\n",
        "\n",
        "gbr = GradientBoostingRegressor()\n",
        "\n",
        "gbr_cross = cross_validate(gbr, numeric, np.log1p(target), cv=2, scoring=('neg_root_mean_squared_error'), return_train_score=True)\n",
        "print(\"test_score:\", np.mean(gbr_cross[\"test_score\"]),\"train_score:\", np.mean(gbr_cross[\"train_score\"]))"
      ],
      "execution_count": 30,
      "outputs": [
        {
          "output_type": "stream",
          "text": [
            "test_score: -0.151513438998454 train_score: -0.09064515992292155\n"
          ],
          "name": "stdout"
        }
      ]
    },
    {
      "cell_type": "code",
      "metadata": {
        "colab": {
          "base_uri": "https://localhost:8080/"
        },
        "id": "iRnu2HcIEZ9k",
        "outputId": "0db5573b-24dc-4d8c-88ee-05965106105d"
      },
      "source": [
        "from xgboost import XGBRegressor\n",
        "\n",
        "xgregressor = XGBRegressor()\n",
        "\n",
        "xgregressor_cross = cross_validate(xgregressor, numeric, np.log1p(target), scoring=('neg_root_mean_squared_error'), cv=2, return_train_score=True)\n",
        "print(\"test_score:\", np.mean(xgregressor_cross[\"test_score\"]),\"train_score:\", np.mean(xgregressor_cross[\"train_score\"]))"
      ],
      "execution_count": 31,
      "outputs": [
        {
          "output_type": "stream",
          "text": [
            "[20:15:08] WARNING: /workspace/src/objective/regression_obj.cu:152: reg:linear is now deprecated in favor of reg:squarederror.\n",
            "[20:15:08] WARNING: /workspace/src/objective/regression_obj.cu:152: reg:linear is now deprecated in favor of reg:squarederror.\n",
            "test_score: -0.15069233590523373 train_score: -0.09974870545528064\n"
          ],
          "name": "stdout"
        }
      ]
    },
    {
      "cell_type": "code",
      "metadata": {
        "id": "Gp9LCkbYHBFZ"
      },
      "source": [
        "test_numeric = test.copy()\n",
        "test_numeric[\"TotalBath\"] = (test_numeric[\"FullBath\"] + 0.5 * test_numeric[\"HalfBath\"] + test_numeric[\"BsmtFullBath\"] + 0.5 * test_numeric[\"BsmtHalfBath\"])\n",
        "test_numeric['TotalPorchSF'] = test_numeric['3SsnPorch'] + test_numeric['EnclosedPorch'] + test_numeric['OpenPorchSF'] + test_numeric['ScreenPorch'] + test_numeric['WoodDeckSF']"
      ],
      "execution_count": 32,
      "outputs": []
    },
    {
      "cell_type": "code",
      "metadata": {
        "id": "A3q9ph4lE_NK"
      },
      "source": [
        " for column in test_numeric.columns.tolist():\n",
        "  if column not in numeric.columns.tolist():\n",
        "    test_numeric.drop(columns=[column], inplace=True)"
      ],
      "execution_count": 33,
      "outputs": []
    },
    {
      "cell_type": "code",
      "metadata": {
        "colab": {
          "base_uri": "https://localhost:8080/",
          "height": 175
        },
        "id": "cax2ExreIyEh",
        "outputId": "fdd5b164-587f-415f-c031-2fdfa2bdf73f"
      },
      "source": [
        "# Looking at NaN % within the data\n",
        "\n",
        "nan = pd.DataFrame(test_numeric.isna().sum(), columns = ['NaN_sum'])\n",
        "nan['Perc(%)'] = (nan['NaN_sum']/1460)*100\n",
        "nan = nan[nan['NaN_sum'] > 0]\n",
        "nan = nan.sort_values(by = ['NaN_sum'])\n",
        "nan"
      ],
      "execution_count": 34,
      "outputs": [
        {
          "output_type": "execute_result",
          "data": {
            "text/html": [
              "<div>\n",
              "<style scoped>\n",
              "    .dataframe tbody tr th:only-of-type {\n",
              "        vertical-align: middle;\n",
              "    }\n",
              "\n",
              "    .dataframe tbody tr th {\n",
              "        vertical-align: top;\n",
              "    }\n",
              "\n",
              "    .dataframe thead th {\n",
              "        text-align: right;\n",
              "    }\n",
              "</style>\n",
              "<table border=\"1\" class=\"dataframe\">\n",
              "  <thead>\n",
              "    <tr style=\"text-align: right;\">\n",
              "      <th></th>\n",
              "      <th>NaN_sum</th>\n",
              "      <th>Perc(%)</th>\n",
              "    </tr>\n",
              "  </thead>\n",
              "  <tbody>\n",
              "    <tr>\n",
              "      <th>TotalBsmtSF</th>\n",
              "      <td>1</td>\n",
              "      <td>0.068493</td>\n",
              "    </tr>\n",
              "    <tr>\n",
              "      <th>GarageCars</th>\n",
              "      <td>1</td>\n",
              "      <td>0.068493</td>\n",
              "    </tr>\n",
              "    <tr>\n",
              "      <th>GarageArea</th>\n",
              "      <td>1</td>\n",
              "      <td>0.068493</td>\n",
              "    </tr>\n",
              "    <tr>\n",
              "      <th>TotalBath</th>\n",
              "      <td>2</td>\n",
              "      <td>0.136986</td>\n",
              "    </tr>\n",
              "  </tbody>\n",
              "</table>\n",
              "</div>"
            ],
            "text/plain": [
              "             NaN_sum   Perc(%)\n",
              "TotalBsmtSF        1  0.068493\n",
              "GarageCars         1  0.068493\n",
              "GarageArea         1  0.068493\n",
              "TotalBath          2  0.136986"
            ]
          },
          "metadata": {
            "tags": []
          },
          "execution_count": 34
        }
      ]
    },
    {
      "cell_type": "code",
      "metadata": {
        "id": "i65kURZzJEmc"
      },
      "source": [
        "# Imputing continuous variable\n",
        "from sklearn.impute import SimpleImputer\n",
        "imputer= SimpleImputer(missing_values=np.NaN, strategy=\"median\")"
      ],
      "execution_count": 35,
      "outputs": []
    },
    {
      "cell_type": "code",
      "metadata": {
        "id": "EwQqiZceJnrd"
      },
      "source": [
        "test_numeric.TotalBsmtSF = imputer.fit_transform(test_numeric['TotalBsmtSF'].values.reshape(-1,1))[:,0]\n",
        "test_numeric.GarageCars = imputer.fit_transform(test_numeric['GarageCars'].values.reshape(-1,1))[:,0]\n",
        "test_numeric.GarageArea = imputer.fit_transform(test_numeric['GarageArea'].values.reshape(-1,1))[:,0]\n",
        "test_numeric.TotalBath = imputer.fit_transform(test_numeric['TotalBath'].values.reshape(-1,1))[:,0]"
      ],
      "execution_count": 36,
      "outputs": []
    },
    {
      "cell_type": "code",
      "metadata": {
        "id": "7MpC7WMiHwbM"
      },
      "source": [
        "for column in test_numeric.columns.tolist():\n",
        "  if column in df_continuos.columns.tolist():\n",
        "    test_numeric[column] = test_numeric[column].astype(float)\n",
        "  elif column in df_discrete.columns.tolist():\n",
        "    test_numeric[column] = test_numeric[column].astype(int)"
      ],
      "execution_count": 37,
      "outputs": []
    },
    {
      "cell_type": "code",
      "metadata": {
        "id": "kvrlGy8fSAkL"
      },
      "source": [
        "for column in numeric.columns.tolist():\n",
        "  if column in df_continuos.columns.tolist():\n",
        "    numeric[column] = numeric[column].astype(float)\n",
        "  elif column in df_discrete.columns.tolist():\n",
        "    numeric[column] = numeric[column].astype(int)"
      ],
      "execution_count": 38,
      "outputs": []
    },
    {
      "cell_type": "code",
      "metadata": {
        "id": "IQ7wv6DWKVqD"
      },
      "source": [
        "numeric = numeric.reindex(sorted(numeric.columns), axis=1)\n",
        "test_numeric = test_numeric.reindex(sorted(test_numeric.columns), axis=1)"
      ],
      "execution_count": 39,
      "outputs": []
    },
    {
      "cell_type": "code",
      "metadata": {
        "colab": {
          "base_uri": "https://localhost:8080/",
          "height": 17
        },
        "id": "_rKWGxyuEdNu",
        "outputId": "fbb0e5c1-6746-486d-98cc-d570e309a316"
      },
      "source": [
        "gbr.fit(numeric, np.log1p(target))\n",
        "prediction = gbr.predict(test_numeric)\n",
        "prediction = np.expm1(prediction)\n",
        "prediction = pd.DataFrame(prediction, columns = ['SalePrice'])\n",
        "prediction = pd.concat([test[['Id']], prediction], axis = 1, ignore_index=True )\n",
        "prediction.to_csv('prediction.csv')\n",
        "from google.colab import files\n",
        "files.download(\"prediction.csv\")"
      ],
      "execution_count": 40,
      "outputs": [
        {
          "output_type": "display_data",
          "data": {
            "application/javascript": [
              "\n",
              "    async function download(id, filename, size) {\n",
              "      if (!google.colab.kernel.accessAllowed) {\n",
              "        return;\n",
              "      }\n",
              "      const div = document.createElement('div');\n",
              "      const label = document.createElement('label');\n",
              "      label.textContent = `Downloading \"${filename}\": `;\n",
              "      div.appendChild(label);\n",
              "      const progress = document.createElement('progress');\n",
              "      progress.max = size;\n",
              "      div.appendChild(progress);\n",
              "      document.body.appendChild(div);\n",
              "\n",
              "      const buffers = [];\n",
              "      let downloaded = 0;\n",
              "\n",
              "      const channel = await google.colab.kernel.comms.open(id);\n",
              "      // Send a message to notify the kernel that we're ready.\n",
              "      channel.send({})\n",
              "\n",
              "      for await (const message of channel.messages) {\n",
              "        // Send a message to notify the kernel that we're ready.\n",
              "        channel.send({})\n",
              "        if (message.buffers) {\n",
              "          for (const buffer of message.buffers) {\n",
              "            buffers.push(buffer);\n",
              "            downloaded += buffer.byteLength;\n",
              "            progress.value = downloaded;\n",
              "          }\n",
              "        }\n",
              "      }\n",
              "      const blob = new Blob(buffers, {type: 'application/binary'});\n",
              "      const a = document.createElement('a');\n",
              "      a.href = window.URL.createObjectURL(blob);\n",
              "      a.download = filename;\n",
              "      div.appendChild(a);\n",
              "      a.click();\n",
              "      div.remove();\n",
              "    }\n",
              "  "
            ],
            "text/plain": [
              "<IPython.core.display.Javascript object>"
            ]
          },
          "metadata": {
            "tags": []
          }
        },
        {
          "output_type": "display_data",
          "data": {
            "application/javascript": [
              "download(\"download_cc9f72a4-a3fc-4daa-800d-6d0ba6541b27\", \"prediction.csv\", 40636)"
            ],
            "text/plain": [
              "<IPython.core.display.Javascript object>"
            ]
          },
          "metadata": {
            "tags": []
          }
        }
      ]
    },
    {
      "cell_type": "code",
      "metadata": {
        "id": "dufOq2LVQD5H"
      },
      "source": [
        "# All discrete features should now have integer dtypes (double-check this before using MI!)\n",
        "discrete_features = numeric.dtypes == int"
      ],
      "execution_count": 41,
      "outputs": []
    },
    {
      "cell_type": "code",
      "metadata": {
        "id": "vhdlu3dbRfW-",
        "outputId": "9a2e1045-eef5-4d2d-b480-aa899d5abb3a",
        "colab": {
          "base_uri": "https://localhost:8080/"
        }
      },
      "source": [
        "discrete_features"
      ],
      "execution_count": 42,
      "outputs": [
        {
          "output_type": "execute_result",
          "data": {
            "text/plain": [
              "2ndFlrSF        False\n",
              "BedroomAbvGr     True\n",
              "Fireplaces       True\n",
              "GarageArea      False\n",
              "GarageCars       True\n",
              "GrLivArea       False\n",
              "KitchenAbvGr     True\n",
              "LotArea         False\n",
              "TotRmsAbvGrd     True\n",
              "TotalBath        True\n",
              "TotalBsmtSF     False\n",
              "TotalPorchSF    False\n",
              "YearBuilt        True\n",
              "YearRemodAdd     True\n",
              "YrSold           True\n",
              "dtype: bool"
            ]
          },
          "metadata": {
            "tags": []
          },
          "execution_count": 42
        }
      ]
    },
    {
      "cell_type": "code",
      "metadata": {
        "id": "SNYPErqZSN3-",
        "outputId": "03485f39-1f05-4495-bf3b-23d7248268a1",
        "colab": {
          "base_uri": "https://localhost:8080/"
        }
      },
      "source": [
        "from sklearn.feature_selection import mutual_info_regression\n",
        "\n",
        "def make_mi_scores(X, y, discrete_features):\n",
        "    mi_scores = mutual_info_regression(X, y, discrete_features=discrete_features)\n",
        "    mi_scores = pd.Series(mi_scores, name=\"MI Scores\", index=X.columns)\n",
        "    mi_scores = mi_scores.sort_values(ascending=False)\n",
        "    return mi_scores\n",
        "\n",
        "mi_scores = make_mi_scores(numeric, np.log1p(target), discrete_features)\n",
        "mi_scores"
      ],
      "execution_count": 43,
      "outputs": [
        {
          "output_type": "execute_result",
          "data": {
            "text/plain": [
              "GrLivArea       0.457360\n",
              "YearBuilt       0.408694\n",
              "GarageArea      0.362438\n",
              "TotalBsmtSF     0.360577\n",
              "GarageCars      0.358953\n",
              "YearRemodAdd    0.277363\n",
              "TotalBath       0.267626\n",
              "TotRmsAbvGrd    0.213415\n",
              "2ndFlrSF        0.186174\n",
              "LotArea         0.169088\n",
              "Fireplaces      0.166642\n",
              "TotalPorchSF    0.126270\n",
              "BedroomAbvGr    0.067660\n",
              "KitchenAbvGr    0.024049\n",
              "YrSold          0.001233\n",
              "Name: MI Scores, dtype: float64"
            ]
          },
          "metadata": {
            "tags": []
          },
          "execution_count": 43
        }
      ]
    },
    {
      "cell_type": "code",
      "metadata": {
        "id": "0TmRTztoY9ex",
        "outputId": "57fb9007-2093-4cbc-d665-88053eab1b92",
        "colab": {
          "base_uri": "https://localhost:8080/",
          "height": 132
        }
      },
      "source": [
        "Start of from feature importance. 2ndFlrSF most likely contributes interaction effect.\n",
        "Should create feature based on that.\n",
        "https://www.kaggle.com/ryanholbrook/mutual-information"
      ],
      "execution_count": 44,
      "outputs": [
        {
          "output_type": "error",
          "ename": "SyntaxError",
          "evalue": "ignored",
          "traceback": [
            "\u001b[0;36m  File \u001b[0;32m\"<ipython-input-44-6a21298e454b>\"\u001b[0;36m, line \u001b[0;32m1\u001b[0m\n\u001b[0;31m    Start of from feature importance. 2ndFlrSF most likely contributes interaction effect.\u001b[0m\n\u001b[0m           ^\u001b[0m\n\u001b[0;31mSyntaxError\u001b[0m\u001b[0;31m:\u001b[0m invalid syntax\n"
          ]
        }
      ]
    }
  ]
}